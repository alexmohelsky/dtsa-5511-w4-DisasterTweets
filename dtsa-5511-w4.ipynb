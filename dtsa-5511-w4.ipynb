{
 "cells": [
  {
   "cell_type": "code",
   "execution_count": 2,
   "metadata": {
    "_cell_guid": "b1076dfc-b9ad-4769-8c92-a6c4dae69d19",
    "_uuid": "8f2839f25d086af736a60e9eeb907d3b93b6e0e5",
    "execution": {
     "iopub.execute_input": "2025-02-26T17:50:57.006149Z",
     "iopub.status.busy": "2025-02-26T17:50:57.005464Z",
     "iopub.status.idle": "2025-02-26T17:50:57.010699Z",
     "shell.execute_reply": "2025-02-26T17:50:57.009833Z",
     "shell.execute_reply.started": "2025-02-26T17:50:57.006121Z"
    },
    "trusted": true
   },
   "outputs": [],
   "source": [
    "# This Python 3 environment comes with many helpful analytics libraries installed\n",
    "# It is defined by the kaggle/python Docker image: https://github.com/kaggle/docker-python\n",
    "# For example, here's several helpful packages to load\n",
    "\n",
    "import numpy as np # linear algebra\n",
    "import pandas as pd # data processing, CSV file I/O (e.g. pd.read_csv)\n",
    "import tensorflow as tf\n",
    "\n",
    "# Input data files are available in the read-only \"../input/\" directory\n",
    "# For example, running this (by clicking run or pressing Shift+Enter) will list all files under the input directory\n",
    "\n",
    "import os\n",
    "kaggle_input_dir = '/kaggle/input'\n",
    "kaggle_output_dir ='/kaggle/working'\n"
   ]
  },
  {
   "cell_type": "markdown",
   "metadata": {},
   "source": [
    "# Problem and Data Description\n",
    "\n",
    "\n",
    "The problem is to predict which Tweets describe a real disaster. This is not as easy as it may seem because people may use metaphors and are not talking about real disasters. The data is comprised of 10,000 tweets that were manually classified. The data is free form\n"
   ]
  },
  {
   "cell_type": "code",
   "execution_count": 3,
   "metadata": {
    "execution": {
     "iopub.execute_input": "2025-02-26T17:50:57.012431Z",
     "iopub.status.busy": "2025-02-26T17:50:57.012190Z",
     "iopub.status.idle": "2025-02-26T17:50:57.060887Z",
     "shell.execute_reply": "2025-02-26T17:50:57.060088Z",
     "shell.execute_reply.started": "2025-02-26T17:50:57.012411Z"
    },
    "trusted": true
   },
   "outputs": [],
   "source": [
    "# First start be reading in all the kaggle input files.\n",
    "# We will use the sample_submission.csv file to create out submission file\n",
    "train_data        = pd.read_csv(kaggle_input_dir + '/nlp-getting-started/train.csv')\n",
    "test_data         = pd.read_csv(kaggle_input_dir + '/nlp-getting-started/test.csv')\n",
    "sample_submission = pd.read_csv(kaggle_input_dir + '/nlp-getting-started/sample_submission.csv')"
   ]
  },
  {
   "cell_type": "markdown",
   "metadata": {},
   "source": [
    "# Exploratory Data Analysis (EDA) and Plan for Analysis\n",
    "\n"
   ]
  },
  {
   "cell_type": "code",
   "execution_count": 4,
   "metadata": {
    "execution": {
     "iopub.execute_input": "2025-02-26T17:50:57.062293Z",
     "iopub.status.busy": "2025-02-26T17:50:57.061953Z",
     "iopub.status.idle": "2025-02-26T17:50:57.075127Z",
     "shell.execute_reply": "2025-02-26T17:50:57.074296Z",
     "shell.execute_reply.started": "2025-02-26T17:50:57.062262Z"
    },
    "trusted": true
   },
   "outputs": [
    {
     "data": {
      "text/html": [
       "<div>\n",
       "<style scoped>\n",
       "    .dataframe tbody tr th:only-of-type {\n",
       "        vertical-align: middle;\n",
       "    }\n",
       "\n",
       "    .dataframe tbody tr th {\n",
       "        vertical-align: top;\n",
       "    }\n",
       "\n",
       "    .dataframe thead th {\n",
       "        text-align: right;\n",
       "    }\n",
       "</style>\n",
       "<table border=\"1\" class=\"dataframe\">\n",
       "  <thead>\n",
       "    <tr style=\"text-align: right;\">\n",
       "      <th></th>\n",
       "      <th>id</th>\n",
       "      <th>keyword</th>\n",
       "      <th>location</th>\n",
       "      <th>text</th>\n",
       "      <th>target</th>\n",
       "    </tr>\n",
       "  </thead>\n",
       "  <tbody>\n",
       "    <tr>\n",
       "      <th>0</th>\n",
       "      <td>1</td>\n",
       "      <td>NaN</td>\n",
       "      <td>NaN</td>\n",
       "      <td>Our Deeds are the Reason of this #earthquake M...</td>\n",
       "      <td>1</td>\n",
       "    </tr>\n",
       "    <tr>\n",
       "      <th>1</th>\n",
       "      <td>4</td>\n",
       "      <td>NaN</td>\n",
       "      <td>NaN</td>\n",
       "      <td>Forest fire near La Ronge Sask. Canada</td>\n",
       "      <td>1</td>\n",
       "    </tr>\n",
       "    <tr>\n",
       "      <th>2</th>\n",
       "      <td>5</td>\n",
       "      <td>NaN</td>\n",
       "      <td>NaN</td>\n",
       "      <td>All residents asked to 'shelter in place' are ...</td>\n",
       "      <td>1</td>\n",
       "    </tr>\n",
       "    <tr>\n",
       "      <th>3</th>\n",
       "      <td>6</td>\n",
       "      <td>NaN</td>\n",
       "      <td>NaN</td>\n",
       "      <td>13,000 people receive #wildfires evacuation or...</td>\n",
       "      <td>1</td>\n",
       "    </tr>\n",
       "    <tr>\n",
       "      <th>4</th>\n",
       "      <td>7</td>\n",
       "      <td>NaN</td>\n",
       "      <td>NaN</td>\n",
       "      <td>Just got sent this photo from Ruby #Alaska as ...</td>\n",
       "      <td>1</td>\n",
       "    </tr>\n",
       "  </tbody>\n",
       "</table>\n",
       "</div>"
      ],
      "text/plain": [
       "   id keyword location                                               text  \\\n",
       "0   1     NaN      NaN  Our Deeds are the Reason of this #earthquake M...   \n",
       "1   4     NaN      NaN             Forest fire near La Ronge Sask. Canada   \n",
       "2   5     NaN      NaN  All residents asked to 'shelter in place' are ...   \n",
       "3   6     NaN      NaN  13,000 people receive #wildfires evacuation or...   \n",
       "4   7     NaN      NaN  Just got sent this photo from Ruby #Alaska as ...   \n",
       "\n",
       "   target  \n",
       "0       1  \n",
       "1       1  \n",
       "2       1  \n",
       "3       1  \n",
       "4       1  "
      ]
     },
     "execution_count": 4,
     "metadata": {},
     "output_type": "execute_result"
    }
   ],
   "source": [
    "train_data.head()"
   ]
  },
  {
   "cell_type": "markdown",
   "metadata": {},
   "source": [
    "The data shows that there are four columns that might be of interest. The column \"text\" is obviously important, however, let's also take a look at what kind of information can be found in keyword or location."
   ]
  },
  {
   "cell_type": "code",
   "execution_count": 5,
   "metadata": {
    "execution": {
     "iopub.execute_input": "2025-02-26T17:50:57.076316Z",
     "iopub.status.busy": "2025-02-26T17:50:57.076025Z",
     "iopub.status.idle": "2025-02-26T17:50:57.090186Z",
     "shell.execute_reply": "2025-02-26T17:50:57.089389Z",
     "shell.execute_reply.started": "2025-02-26T17:50:57.076294Z"
    },
    "trusted": true
   },
   "outputs": [
    {
     "data": {
      "text/html": [
       "<div>\n",
       "<style scoped>\n",
       "    .dataframe tbody tr th:only-of-type {\n",
       "        vertical-align: middle;\n",
       "    }\n",
       "\n",
       "    .dataframe tbody tr th {\n",
       "        vertical-align: top;\n",
       "    }\n",
       "\n",
       "    .dataframe thead th {\n",
       "        text-align: right;\n",
       "    }\n",
       "</style>\n",
       "<table border=\"1\" class=\"dataframe\">\n",
       "  <thead>\n",
       "    <tr style=\"text-align: right;\">\n",
       "      <th></th>\n",
       "      <th>id</th>\n",
       "      <th>keyword</th>\n",
       "      <th>location</th>\n",
       "      <th>text</th>\n",
       "      <th>target</th>\n",
       "    </tr>\n",
       "  </thead>\n",
       "  <tbody>\n",
       "    <tr>\n",
       "      <th>31</th>\n",
       "      <td>48</td>\n",
       "      <td>ablaze</td>\n",
       "      <td>Birmingham</td>\n",
       "      <td>@bbcmtd Wholesale Markets ablaze http://t.co/l...</td>\n",
       "      <td>1</td>\n",
       "    </tr>\n",
       "    <tr>\n",
       "      <th>32</th>\n",
       "      <td>49</td>\n",
       "      <td>ablaze</td>\n",
       "      <td>Est. September 2012 - Bristol</td>\n",
       "      <td>We always try to bring the heavy. #metal #RT h...</td>\n",
       "      <td>0</td>\n",
       "    </tr>\n",
       "    <tr>\n",
       "      <th>33</th>\n",
       "      <td>50</td>\n",
       "      <td>ablaze</td>\n",
       "      <td>AFRICA</td>\n",
       "      <td>#AFRICANBAZE: Breaking news:Nigeria flag set a...</td>\n",
       "      <td>1</td>\n",
       "    </tr>\n",
       "    <tr>\n",
       "      <th>34</th>\n",
       "      <td>52</td>\n",
       "      <td>ablaze</td>\n",
       "      <td>Philadelphia, PA</td>\n",
       "      <td>Crying out for more! Set me ablaze</td>\n",
       "      <td>0</td>\n",
       "    </tr>\n",
       "    <tr>\n",
       "      <th>35</th>\n",
       "      <td>53</td>\n",
       "      <td>ablaze</td>\n",
       "      <td>London, UK</td>\n",
       "      <td>On plus side LOOK AT THE SKY LAST NIGHT IT WAS...</td>\n",
       "      <td>0</td>\n",
       "    </tr>\n",
       "    <tr>\n",
       "      <th>...</th>\n",
       "      <td>...</td>\n",
       "      <td>...</td>\n",
       "      <td>...</td>\n",
       "      <td>...</td>\n",
       "      <td>...</td>\n",
       "    </tr>\n",
       "    <tr>\n",
       "      <th>7578</th>\n",
       "      <td>10830</td>\n",
       "      <td>wrecked</td>\n",
       "      <td>NaN</td>\n",
       "      <td>@jt_ruff23 @cameronhacker and I wrecked you both</td>\n",
       "      <td>0</td>\n",
       "    </tr>\n",
       "    <tr>\n",
       "      <th>7579</th>\n",
       "      <td>10831</td>\n",
       "      <td>wrecked</td>\n",
       "      <td>Vancouver, Canada</td>\n",
       "      <td>Three days off from work and they've pretty mu...</td>\n",
       "      <td>0</td>\n",
       "    </tr>\n",
       "    <tr>\n",
       "      <th>7580</th>\n",
       "      <td>10832</td>\n",
       "      <td>wrecked</td>\n",
       "      <td>London</td>\n",
       "      <td>#FX #forex #trading Cramer: Iger's 3 words tha...</td>\n",
       "      <td>0</td>\n",
       "    </tr>\n",
       "    <tr>\n",
       "      <th>7581</th>\n",
       "      <td>10833</td>\n",
       "      <td>wrecked</td>\n",
       "      <td>Lincoln</td>\n",
       "      <td>@engineshed Great atmosphere at the British Li...</td>\n",
       "      <td>0</td>\n",
       "    </tr>\n",
       "    <tr>\n",
       "      <th>7582</th>\n",
       "      <td>10834</td>\n",
       "      <td>wrecked</td>\n",
       "      <td>NaN</td>\n",
       "      <td>Cramer: Iger's 3 words that wrecked Disney's s...</td>\n",
       "      <td>0</td>\n",
       "    </tr>\n",
       "  </tbody>\n",
       "</table>\n",
       "<p>7552 rows × 5 columns</p>\n",
       "</div>"
      ],
      "text/plain": [
       "         id  keyword                       location  \\\n",
       "31       48   ablaze                     Birmingham   \n",
       "32       49   ablaze  Est. September 2012 - Bristol   \n",
       "33       50   ablaze                         AFRICA   \n",
       "34       52   ablaze               Philadelphia, PA   \n",
       "35       53   ablaze                     London, UK   \n",
       "...     ...      ...                            ...   \n",
       "7578  10830  wrecked                            NaN   \n",
       "7579  10831  wrecked              Vancouver, Canada   \n",
       "7580  10832  wrecked                        London    \n",
       "7581  10833  wrecked                        Lincoln   \n",
       "7582  10834  wrecked                            NaN   \n",
       "\n",
       "                                                   text  target  \n",
       "31    @bbcmtd Wholesale Markets ablaze http://t.co/l...       1  \n",
       "32    We always try to bring the heavy. #metal #RT h...       0  \n",
       "33    #AFRICANBAZE: Breaking news:Nigeria flag set a...       1  \n",
       "34                   Crying out for more! Set me ablaze       0  \n",
       "35    On plus side LOOK AT THE SKY LAST NIGHT IT WAS...       0  \n",
       "...                                                 ...     ...  \n",
       "7578   @jt_ruff23 @cameronhacker and I wrecked you both       0  \n",
       "7579  Three days off from work and they've pretty mu...       0  \n",
       "7580  #FX #forex #trading Cramer: Iger's 3 words tha...       0  \n",
       "7581  @engineshed Great atmosphere at the British Li...       0  \n",
       "7582  Cramer: Iger's 3 words that wrecked Disney's s...       0  \n",
       "\n",
       "[7552 rows x 5 columns]"
      ]
     },
     "execution_count": 5,
     "metadata": {},
     "output_type": "execute_result"
    }
   ],
   "source": [
    "train_data[~train_data['keyword'].isna()]"
   ]
  },
  {
   "cell_type": "markdown",
   "metadata": {},
   "source": [
    "The column keyword has values like ablaze that apply to both disasters and non-disasters. Keyword taken from the text but have no context, so it will not be useful to leverage keyword in the feature engineering. Likewise, the column location does not look very promising since the value simply indicate countrie or country / city."
   ]
  },
  {
   "cell_type": "code",
   "execution_count": 6,
   "metadata": {
    "execution": {
     "iopub.execute_input": "2025-02-26T17:50:57.093288Z",
     "iopub.status.busy": "2025-02-26T17:50:57.092689Z",
     "iopub.status.idle": "2025-02-26T17:50:57.100970Z",
     "shell.execute_reply": "2025-02-26T17:50:57.100089Z",
     "shell.execute_reply.started": "2025-02-26T17:50:57.093258Z"
    },
    "trusted": true
   },
   "outputs": [
    {
     "data": {
      "text/html": [
       "<div>\n",
       "<style scoped>\n",
       "    .dataframe tbody tr th:only-of-type {\n",
       "        vertical-align: middle;\n",
       "    }\n",
       "\n",
       "    .dataframe tbody tr th {\n",
       "        vertical-align: top;\n",
       "    }\n",
       "\n",
       "    .dataframe thead th {\n",
       "        text-align: right;\n",
       "    }\n",
       "</style>\n",
       "<table border=\"1\" class=\"dataframe\">\n",
       "  <thead>\n",
       "    <tr style=\"text-align: right;\">\n",
       "      <th></th>\n",
       "      <th>id</th>\n",
       "      <th>keyword</th>\n",
       "      <th>location</th>\n",
       "      <th>text</th>\n",
       "    </tr>\n",
       "  </thead>\n",
       "  <tbody>\n",
       "    <tr>\n",
       "      <th>0</th>\n",
       "      <td>0</td>\n",
       "      <td>NaN</td>\n",
       "      <td>NaN</td>\n",
       "      <td>Just happened a terrible car crash</td>\n",
       "    </tr>\n",
       "    <tr>\n",
       "      <th>1</th>\n",
       "      <td>2</td>\n",
       "      <td>NaN</td>\n",
       "      <td>NaN</td>\n",
       "      <td>Heard about #earthquake is different cities, s...</td>\n",
       "    </tr>\n",
       "    <tr>\n",
       "      <th>2</th>\n",
       "      <td>3</td>\n",
       "      <td>NaN</td>\n",
       "      <td>NaN</td>\n",
       "      <td>there is a forest fire at spot pond, geese are...</td>\n",
       "    </tr>\n",
       "    <tr>\n",
       "      <th>3</th>\n",
       "      <td>9</td>\n",
       "      <td>NaN</td>\n",
       "      <td>NaN</td>\n",
       "      <td>Apocalypse lighting. #Spokane #wildfires</td>\n",
       "    </tr>\n",
       "    <tr>\n",
       "      <th>4</th>\n",
       "      <td>11</td>\n",
       "      <td>NaN</td>\n",
       "      <td>NaN</td>\n",
       "      <td>Typhoon Soudelor kills 28 in China and Taiwan</td>\n",
       "    </tr>\n",
       "  </tbody>\n",
       "</table>\n",
       "</div>"
      ],
      "text/plain": [
       "   id keyword location                                               text\n",
       "0   0     NaN      NaN                 Just happened a terrible car crash\n",
       "1   2     NaN      NaN  Heard about #earthquake is different cities, s...\n",
       "2   3     NaN      NaN  there is a forest fire at spot pond, geese are...\n",
       "3   9     NaN      NaN           Apocalypse lighting. #Spokane #wildfires\n",
       "4  11     NaN      NaN      Typhoon Soudelor kills 28 in China and Taiwan"
      ]
     },
     "execution_count": 6,
     "metadata": {},
     "output_type": "execute_result"
    }
   ],
   "source": [
    "test_data.head()"
   ]
  },
  {
   "cell_type": "code",
   "execution_count": 7,
   "metadata": {
    "execution": {
     "iopub.execute_input": "2025-02-26T17:50:57.102338Z",
     "iopub.status.busy": "2025-02-26T17:50:57.102068Z",
     "iopub.status.idle": "2025-02-26T17:50:57.130028Z",
     "shell.execute_reply": "2025-02-26T17:50:57.129229Z",
     "shell.execute_reply.started": "2025-02-26T17:50:57.102319Z"
    },
    "trusted": true
   },
   "outputs": [
    {
     "name": "stdout",
     "output_type": "stream",
     "text": [
      "<class 'pandas.core.frame.DataFrame'>\n",
      "RangeIndex: 7613 entries, 0 to 7612\n",
      "Data columns (total 5 columns):\n",
      " #   Column    Non-Null Count  Dtype \n",
      "---  ------    --------------  ----- \n",
      " 0   id        7613 non-null   int64 \n",
      " 1   keyword   7552 non-null   object\n",
      " 2   location  5080 non-null   object\n",
      " 3   text      7613 non-null   object\n",
      " 4   target    7613 non-null   int64 \n",
      "dtypes: int64(2), object(3)\n",
      "memory usage: 297.5+ KB\n"
     ]
    },
    {
     "data": {
      "text/html": [
       "<div>\n",
       "<style scoped>\n",
       "    .dataframe tbody tr th:only-of-type {\n",
       "        vertical-align: middle;\n",
       "    }\n",
       "\n",
       "    .dataframe tbody tr th {\n",
       "        vertical-align: top;\n",
       "    }\n",
       "\n",
       "    .dataframe thead th {\n",
       "        text-align: right;\n",
       "    }\n",
       "</style>\n",
       "<table border=\"1\" class=\"dataframe\">\n",
       "  <thead>\n",
       "    <tr style=\"text-align: right;\">\n",
       "      <th></th>\n",
       "      <th>id</th>\n",
       "      <th>target</th>\n",
       "    </tr>\n",
       "  </thead>\n",
       "  <tbody>\n",
       "    <tr>\n",
       "      <th>count</th>\n",
       "      <td>7613.000000</td>\n",
       "      <td>7613.00000</td>\n",
       "    </tr>\n",
       "    <tr>\n",
       "      <th>mean</th>\n",
       "      <td>5441.934848</td>\n",
       "      <td>0.42966</td>\n",
       "    </tr>\n",
       "    <tr>\n",
       "      <th>std</th>\n",
       "      <td>3137.116090</td>\n",
       "      <td>0.49506</td>\n",
       "    </tr>\n",
       "    <tr>\n",
       "      <th>min</th>\n",
       "      <td>1.000000</td>\n",
       "      <td>0.00000</td>\n",
       "    </tr>\n",
       "    <tr>\n",
       "      <th>25%</th>\n",
       "      <td>2734.000000</td>\n",
       "      <td>0.00000</td>\n",
       "    </tr>\n",
       "    <tr>\n",
       "      <th>50%</th>\n",
       "      <td>5408.000000</td>\n",
       "      <td>0.00000</td>\n",
       "    </tr>\n",
       "    <tr>\n",
       "      <th>75%</th>\n",
       "      <td>8146.000000</td>\n",
       "      <td>1.00000</td>\n",
       "    </tr>\n",
       "    <tr>\n",
       "      <th>max</th>\n",
       "      <td>10873.000000</td>\n",
       "      <td>1.00000</td>\n",
       "    </tr>\n",
       "  </tbody>\n",
       "</table>\n",
       "</div>"
      ],
      "text/plain": [
       "                 id      target\n",
       "count   7613.000000  7613.00000\n",
       "mean    5441.934848     0.42966\n",
       "std     3137.116090     0.49506\n",
       "min        1.000000     0.00000\n",
       "25%     2734.000000     0.00000\n",
       "50%     5408.000000     0.00000\n",
       "75%     8146.000000     1.00000\n",
       "max    10873.000000     1.00000"
      ]
     },
     "execution_count": 7,
     "metadata": {},
     "output_type": "execute_result"
    }
   ],
   "source": [
    "train_data.info()\n",
    "train_data.describe()"
   ]
  },
  {
   "cell_type": "code",
   "execution_count": 8,
   "metadata": {
    "execution": {
     "iopub.execute_input": "2025-02-26T17:50:57.131595Z",
     "iopub.status.busy": "2025-02-26T17:50:57.131366Z",
     "iopub.status.idle": "2025-02-26T17:50:57.136415Z",
     "shell.execute_reply": "2025-02-26T17:50:57.135565Z",
     "shell.execute_reply.started": "2025-02-26T17:50:57.131575Z"
    },
    "trusted": true
   },
   "outputs": [
    {
     "name": "stdout",
     "output_type": "stream",
     "text": [
      "0    4342\n",
      "1    3271\n",
      "Name: target, dtype: int64\n",
      "4342\n"
     ]
    }
   ],
   "source": [
    "label_counts = train_data['target'].value_counts()\n",
    "print(label_counts)\n",
    "print(label_counts[0])"
   ]
  },
  {
   "cell_type": "code",
   "execution_count": 9,
   "metadata": {
    "execution": {
     "iopub.execute_input": "2025-02-26T17:50:57.137616Z",
     "iopub.status.busy": "2025-02-26T17:50:57.137385Z",
     "iopub.status.idle": "2025-02-26T17:50:57.371511Z",
     "shell.execute_reply": "2025-02-26T17:50:57.370623Z",
     "shell.execute_reply.started": "2025-02-26T17:50:57.137596Z"
    },
    "trusted": true
   },
   "outputs": [
    {
     "data": {
      "text/plain": [
       "<Axes: title={'center': 'Disaster Class Frequency'}, xlabel='Class', ylabel='Frequency'>"
      ]
     },
     "execution_count": 9,
     "metadata": {},
     "output_type": "execute_result"
    },
    {
     "data": {
      "image/png": "[encoded data removed]",
      "text/plain": [
       "<Figure size 640x480 with 1 Axes>"
      ]
     },
     "metadata": {},
     "output_type": "display_data"
    }
   ],
   "source": [
    "label_counts.plot.bar(rot=0, title = \"Disaster Class Frequency\", xlabel = \"Class\", ylabel = \"Frequency\")"
   ]
  },
  {
   "cell_type": "markdown",
   "metadata": {},
   "source": [
    "There are more non-disaster lables, however, it is not so much that it should create a huge bias problem. We will first try training without downsampling non-disaster labels."
   ]
  },
  {
   "cell_type": "code",
   "execution_count": null,
   "metadata": {
    "trusted": true
   },
   "outputs": [],
   "source": []
  },
  {
   "cell_type": "markdown",
   "metadata": {},
   "source": [
    "# Text preprocessing\n",
    "\n",
    "We will remove HTML tags, urls, and expand abbrevations into their full words. We will also remove common small words, called stop words, like \"the\", \"for\", etc. using the NLT stopword list."
   ]
  },
  {
   "cell_type": "code",
   "execution_count": 10,
   "metadata": {
    "execution": {
     "iopub.execute_input": "2025-02-26T17:50:57.372579Z",
     "iopub.status.busy": "2025-02-26T17:50:57.372349Z",
     "iopub.status.idle": "2025-02-26T17:50:57.376786Z",
     "shell.execute_reply": "2025-02-26T17:50:57.375555Z",
     "shell.execute_reply.started": "2025-02-26T17:50:57.372559Z"
    },
    "trusted": true
   },
   "outputs": [],
   "source": [
    "#Libraries for formattting and handling text \n",
    "import string \n",
    "import re"
   ]
  },
  {
   "cell_type": "code",
   "execution_count": 11,
   "metadata": {
    "execution": {
     "iopub.execute_input": "2025-02-26T17:50:57.378134Z",
     "iopub.status.busy": "2025-02-26T17:50:57.377789Z",
     "iopub.status.idle": "2025-02-26T17:50:57.388429Z",
     "shell.execute_reply": "2025-02-26T17:50:57.387547Z",
     "shell.execute_reply.started": "2025-02-26T17:50:57.378113Z"
    },
    "trusted": true
   },
   "outputs": [],
   "source": [
    "def remove_punc(text):\n",
    "\n",
    "    \n",
    "    clean_text = [char for char in text if char not in string.punctuation]\n",
    "   \n",
    "    clean_text = ''.join(clean_text)\n",
    "    \n",
    "        \n",
    "    return clean_text"
   ]
  },
  {
   "cell_type": "code",
   "execution_count": 12,
   "metadata": {
    "execution": {
     "iopub.execute_input": "2025-02-26T17:50:57.393898Z",
     "iopub.status.busy": "2025-02-26T17:50:57.393419Z",
     "iopub.status.idle": "2025-02-26T17:50:57.411971Z",
     "shell.execute_reply": "2025-02-26T17:50:57.411077Z",
     "shell.execute_reply.started": "2025-02-26T17:50:57.393866Z"
    },
    "trusted": true
   },
   "outputs": [],
   "source": [
    "abbreviations = {\n",
    "    \"$\" : \" dollar \",\n",
    "    \"€\" : \" euro \",\n",
    "    \"4ao\" : \"for adults only\",\n",
    "    \"a.m\" : \"before midday\",\n",
    "    \"a3\" : \"anytime anywhere anyplace\",\n",
    "    \"aamof\" : \"as a matter of fact\",\n",
    "    \"acct\" : \"account\",\n",
    "    \"adih\" : \"another day in hell\",\n",
    "    \"afaic\" : \"as far as i am concerned\",\n",
    "    \"afaict\" : \"as far as i can tell\",\n",
    "    \"afaik\" : \"as far as i know\",\n",
    "    \"afair\" : \"as far as i remember\",\n",
    "    \"afk\" : \"away from keyboard\",\n",
    "    \"app\" : \"application\",\n",
    "    \"approx\" : \"approximately\",\n",
    "    \"apps\" : \"applications\",\n",
    "    \"asap\" : \"as soon as possible\",\n",
    "    \"asl\" : \"age, sex, location\",\n",
    "    \"atk\" : \"at the keyboard\",\n",
    "    \"ave.\" : \"avenue\",\n",
    "    \"aymm\" : \"are you my mother\",\n",
    "    \"ayor\" : \"at your own risk\", \n",
    "    \"b&b\" : \"bed and breakfast\",\n",
    "    \"b+b\" : \"bed and breakfast\",\n",
    "    \"b.c\" : \"before christ\",\n",
    "    \"b2b\" : \"business to business\",\n",
    "    \"b2c\" : \"business to customer\",\n",
    "    \"b4\" : \"before\",\n",
    "    \"b4n\" : \"bye for now\",    \n",
    "    \"b@u\" : \"back at you\",\n",
    "    \"bae\" : \"before anyone else\",\n",
    "    \"bak\" : \"back at keyboard\",\n",
    "    \"bbbg\" : \"bye bye be good\",\n",
    "    \"bbc\" : \"british broadcasting corporation\",\n",
    "    \"bbias\" : \"be back in a second\",\n",
    "    \"bbl\" : \"be back later\",\n",
    "    \"bbs\" : \"be back soon\",\n",
    "    \"be4\" : \"before\",\n",
    "    \"bfn\" : \"bye for now\",\n",
    "    \"blvd\" : \"boulevard\",\n",
    "    \"bout\" : \"about\",\n",
    "    \"brb\" : \"be right back\",\n",
    "    \"bros\" : \"brothers\",\n",
    "    \"brt\" : \"be right there\",\n",
    "    \"bsaaw\" : \"big smile and a wink\",\n",
    "    \"btw\" : \"by the way\",\n",
    "    \"bwl\" : \"bursting with laughter\",\n",
    "    \"c/o\" : \"care of\",\n",
    "    \"cet\" : \"central european time\",\n",
    "    \"cf\" : \"compare\",\n",
    "    \"cia\" : \"central intelligence agency\",\n",
    "    \"csl\" : \"can not stop laughing\",\n",
    "    \"cu\" : \"see you\",\n",
    "    \"cul8r\" : \"see you later\",\n",
    "    \"cv\" : \"curriculum vitae\",\n",
    "    \"cwot\" : \"complete waste of time\",\n",
    "    \"cya\" : \"see you\",\n",
    "    \"cyt\" : \"see you tomorrow\",\n",
    "    \"dae\" : \"does anyone else\",\n",
    "    \"dbmib\" : \"do not bother me i am busy\",\n",
    "    \"diy\" : \"do it yourself\",\n",
    "    \"dm\" : \"direct message\",\n",
    "    \"dwh\" : \"during work hours\",\n",
    "    \"e123\" : \"easy as one two three\",\n",
    "    \"eet\" : \"eastern european time\",\n",
    "    \"eg\" : \"example\",\n",
    "    \"embm\" : \"early morning business meeting\",\n",
    "    \"encl\" : \"enclosed\",\n",
    "    \"encl.\" : \"enclosed\",\n",
    "    \"etc\" : \"and so on\",\n",
    "    \"faq\" : \"frequently asked questions\",\n",
    "    \"fawc\" : \"for anyone who cares\",\n",
    "    \"fb\" : \"facebook\",\n",
    "    \"fc\" : \"fingers crossed\",\n",
    "    \"fig\" : \"figure\",\n",
    "    \"fimh\" : \"forever in my heart\", \n",
    "    \"ft.\" : \"feet\",\n",
    "    \"ft\" : \"featuring\",\n",
    "    \"ftl\" : \"for the loss\",\n",
    "    \"ftw\" : \"for the win\",\n",
    "    \"fwiw\" : \"for what it is worth\",\n",
    "    \"fyi\" : \"for your information\",\n",
    "    \"g9\" : \"genius\",\n",
    "    \"gahoy\" : \"get a hold of yourself\",\n",
    "    \"gal\" : \"get a life\",\n",
    "    \"gcse\" : \"general certificate of secondary education\",  \n",
    "    \"gfn\" : \"gone for now\",\n",
    "    \"gg\" : \"good game\",\n",
    "    \"gl\" : \"good luck\",\n",
    "    \"glhf\" : \"good luck have fun\",\n",
    "    \"gmt\" : \"greenwich mean time\",\n",
    "    \"gmta\" : \"great minds think alike\",\n",
    "    \"gn\" : \"good night\",\n",
    "    \"g.o.a.t\" : \"greatest of all time\",\n",
    "    \"goat\" : \"greatest of all time\",\n",
    "    \"goi\" : \"get over it\",\n",
    "    \"gps\" : \"global positioning system\",\n",
    "    \"gr8\" : \"great\",\n",
    "    \"gratz\" : \"congratulations\",\n",
    "    \"gyal\" : \"girl\",\n",
    "    \"h&c\" : \"hot and cold\",\n",
    "    \"hp\" : \"horsepower\",\n",
    "    \"hr\" : \"hour\",\n",
    "    \"hrh\" : \"his royal highness\",\n",
    "    \"ht\" : \"height\",\n",
    "    \"ibrb\" : \"i will be right back\",\n",
    "    \"ic\" : \"i see\",\n",
    "    \"icq\" : \"i seek you\",\n",
    "    \"icymi\" : \"in case you missed it\",\n",
    "    \"idc\" : \"i do not care\",\n",
    "    \"idgadf\" : \"i do not give a damn fuck\",\n",
    "    \"idgaf\" : \"i do not give a fuck\",\n",
    "    \"idk\" : \"i do not know\",\n",
    "    \"ie\" : \"that is\",\n",
    "    \"i.e\" : \"that is\",\n",
    "    \"ifyp\" : \"i feel your pain\",\n",
    "    \"IG\" : \"instagram\",\n",
    "    \"iirc\" : \"if i remember correctly\",\n",
    "    \"ilu\" : \"i love you\",\n",
    "    \"ily\" : \"i love you\",\n",
    "    \"imho\" : \"in my humble opinion\",\n",
    "    \"imo\" : \"in my opinion\",\n",
    "    \"imu\" : \"i miss you\",\n",
    "    \"iow\" : \"in other words\",\n",
    "    \"irl\" : \"in real life\",\n",
    "    \"j4f\" : \"just for fun\",\n",
    "    \"jic\" : \"just in case\",\n",
    "    \"jk\" : \"just kidding\",  \n",
    "    \"jsyk\" : \"just so you know\",\n",
    "    \"l8r\" : \"later\",\n",
    "    \"lb\" : \"pound\",\n",
    "    \"lbs\" : \"pounds\",\n",
    "    \"ldr\" : \"long distance relationship\",\n",
    "    \"lmao\" : \"laugh my ass off\",\n",
    "    \"lmfao\" : \"laugh my fucking ass off\",\n",
    "    \"lol\" : \"laughing out loud\",\n",
    "    \"ltd\" : \"limited\",\n",
    "    \"ltns\" : \"long time no see\",\n",
    "    \"m8\" : \"mate\",\n",
    "    \"mf\" : \"motherfucker\",\n",
    "    \"mfs\" : \"motherfuckers\",\n",
    "    \"mfw\" : \"my face when\",\n",
    "    \"mofo\" : \"motherfucker\",\n",
    "    \"mph\" : \"miles per hour\",\n",
    "    \"mr\" : \"mister\",\n",
    "    \"mrw\" : \"my reaction when\",\n",
    "    \"ms\" : \"miss\",\n",
    "    \"mte\" : \"my thoughts exactly\",\n",
    "    \"nagi\" : \"not a good idea\",\n",
    "    \"nbc\" : \"national broadcasting company\",\n",
    "    \"nbd\" : \"not big deal\",\n",
    "    \"nfs\" : \"not for sale\",\n",
    "    \"ngl\" : \"not going to lie\",\n",
    "    \"nhs\" : \"national health service\",\n",
    "    \"nrn\" : \"no reply necessary\",\n",
    "    \"nsfl\" : \"not safe for life\",\n",
    "    \"nsfw\" : \"not safe for work\",\n",
    "    \"nth\" : \"nice to have\",\n",
    "    \"nvr\" : \"never\",\n",
    "    \"nyc\" : \"new york city\",\n",
    "    \"oc\" : \"original content\",\n",
    "    \"og\" : \"original\",\n",
    "    \"ohp\" : \"overhead projector\",\n",
    "    \"oic\" : \"oh i see\",\n",
    "    \"omdb\" : \"over my dead body\",\n",
    "    \"omg\" : \"oh my god\",\n",
    "    \"omw\" : \"on my way\",\n",
    "    \"p.a\" : \"per annum\",\n",
    "    \"p.m\" : \"after midday\",\n",
    "    \"pm\" : \"prime minister\",\n",
    "    \"poc\" : \"people of color\",\n",
    "    \"pov\" : \"point of view\",\n",
    "    \"pp\" : \"pages\",\n",
    "    \"ppl\" : \"people\",\n",
    "    \"prw\" : \"parents are watching\",\n",
    "    \"ps\" : \"postscript\",\n",
    "    \"pt\" : \"point\",\n",
    "    \"ptb\" : \"please text back\",\n",
    "    \"pto\" : \"please turn over\",\n",
    "    \"qpsa\" : \"what happens\",\n",
    "    \"ratchet\" : \"rude\",\n",
    "    \"rbtl\" : \"read between the lines\",\n",
    "    \"rlrt\" : \"real life retweet\", \n",
    "    \"rofl\" : \"rolling on the floor laughing\",\n",
    "    \"roflol\" : \"rolling on the floor laughing out loud\",    \n",
    "    \"rotflmao\" : \"rolling on the floor laughing my ass off\",\n",
    "    \"rt\" : \"retweet\",\n",
    "    \"ruok\" : \"are you ok\",\n",
    "    \"sfw\" : \"safe for work\",\n",
    "    \"sk8\" : \"skate\",\n",
    "    \"smh\" : \"shake my head\",\n",
    "    \"sq\" : \"square\",\n",
    "    \"srsly\" : \"seriously\", \n",
    "    \"ssdd\" : \"same stuff different day\",\n",
    "    \"tbh\" : \"to be honest\",\n",
    "    \"tbs\" : \"tablespooful\",\n",
    "    \"tbsp\" : \"tablespooful\",\n",
    "    \"tfw\" : \"that feeling when\",\n",
    "    \"thks\" : \"thank you\",\n",
    "    \"tho\" : \"though\",\n",
    "    \"thx\" : \"thank you\",\n",
    "    \"tia\" : \"thanks in advance\",\n",
    "    \"til\" : \"today i learned\",\n",
    "    \"tl;dr\" : \"too long i did not read\",\n",
    "    \"tldr\" : \"too long i did not read\",\n",
    "    \"tmb\" : \"tweet me back\",\n",
    "    \"tntl\" : \"trying not to laugh\",\n",
    "    \"ttyl\" : \"talk to you later\",\n",
    "    \"u\" : \"you\",\n",
    "    \"u2\" : \"you too\",\n",
    "    \"u4e\" : \"yours for ever\",\n",
    "    \"utc\" : \"coordinated universal time\",\n",
    "    \"w/\" : \"with\",\n",
    "    \"w/o\" : \"without\",\n",
    "    \"w8\" : \"wait\",\n",
    "    \"wassup\" : \"what is up\",\n",
    "    \"wb\" : \"welcome back\",\n",
    "    \"wtf\" : \"what the fuck\",\n",
    "    \"wtg\" : \"way to go\",\n",
    "    \"wtpa\" : \"where the party at\",\n",
    "    \"wuf\" : \"where are you from\",\n",
    "    \"wuzup\" : \"what is up\",\n",
    "    \"wywh\" : \"wish you were here\",\n",
    "    \"yd\" : \"yard\",\n",
    "    \"ygtr\" : \"you got that right\",\n",
    "    \"ynk\" : \"you never know\",\n",
    "    \"zzz\" : \"sleeping bored and tired\"\n",
    "}\n",
    "    \n",
    "    "
   ]
  },
  {
   "cell_type": "code",
   "execution_count": 13,
   "metadata": {
    "execution": {
     "iopub.execute_input": "2025-02-26T17:50:57.413668Z",
     "iopub.status.busy": "2025-02-26T17:50:57.413428Z",
     "iopub.status.idle": "2025-02-26T17:50:57.427110Z",
     "shell.execute_reply": "2025-02-26T17:50:57.426231Z",
     "shell.execute_reply.started": "2025-02-26T17:50:57.413648Z"
    },
    "trusted": true
   },
   "outputs": [],
   "source": [
    "# remove hashtags\n",
    "def remove_hashtag(text):\n",
    "  return text.replace(\"#\", \"\")\n",
    "\n",
    "# Remove all URLs, replace by URL\n",
    "def remove_URL(text):\n",
    "    url = re.compile(r'https?://\\S+|www\\.\\S+')\n",
    "    return url.sub(r'URL',text)\n",
    "\n",
    "# Remove HTML beacon\n",
    "def remove_HTML(text):\n",
    "    html=re.compile(r'<.*?>')\n",
    "    return html.sub(r'',text)\n",
    "\n",
    "# Remove non printable characters\n",
    "def remove_not_ASCII(text):\n",
    "    text = ''.join([word for word in text if word in string.printable])\n",
    "    return text\n",
    "\n",
    "# Change an abbreviation by its true meaning\n",
    "def word_abbrev(word):\n",
    "    return abbreviations[word.lower()] if word.lower() in abbreviations.keys() else word\n",
    "\n",
    "# Replace all abbreviations\n",
    "def replace_abbrev(text):   \n",
    "    string = \"\"\n",
    "    for word in text.split():\n",
    "        string += word_abbrev(word) + \" \"        \n",
    "    return string\n",
    "\n",
    "# Remove @ and mention, replace by USER\n",
    "def remove_mention(text):\n",
    "    at=re.compile(r'@\\S+')\n",
    "    return at.sub(r'USER',text)\n",
    "\n",
    "# Remove numbers, replace it by NUMBER\n",
    "def remove_number(text):\n",
    "    num = re.compile(r'[-+]?[.\\d]*[\\d]+[:,.\\d]*')\n",
    "    return num.sub(r'NUMBER', text)\n",
    "\n",
    "# Remove all emojis, replace by EMOJI\n",
    "def remove_emoji(text):\n",
    "    emoji_pattern = re.compile(\"[\"\n",
    "                           u\"\\U0001F600-\\U0001F64F\"  # emoticons\n",
    "                           u\"\\U0001F300-\\U0001F5FF\"  # symbols & pictographs\n",
    "                           u\"\\U0001F680-\\U0001F6FF\"  # transport & map symbols\n",
    "                           u\"\\U0001F1E0-\\U0001F1FF\"  # flags (iOS)\n",
    "                           u\"\\U00002702-\\U000027B0\"\n",
    "                           u\"\\U000024C2-\\U0001F251\"\n",
    "                           \"]+\", flags=re.UNICODE)\n",
    "    return emoji_pattern.sub(r'EMOJI', text)\n",
    "\n",
    "# Replace some others smileys with SADFACE\n",
    "def transcription_sad(text):\n",
    "    eyes = \"[8:=;]\"\n",
    "    nose = \"['`\\-]\"\n",
    "    smiley = re.compile(r'[8:=;][\\'\\-]?[(\\\\/]')\n",
    "    return smiley.sub(r'SADFACE', text)\n",
    "\n",
    "# Replace some smileys with SMILE\n",
    "def transcription_smile(text):\n",
    "    eyes = \"[8:=;]\"\n",
    "    nose = \"['`\\-]\"\n",
    "    smiley = re.compile(r'[8:=;][\\'\\-]?[)dDp]')\n",
    "    #smiley = re.compile(r'#{eyes}#{nose}[)d]+|[)d]+#{nose}#{eyes}/i')\n",
    "    return smiley.sub(r'SMILE', text)\n",
    "\n",
    "# Replace <3 with HEART\n",
    "def transcription_heart(text):\n",
    "    heart = re.compile(r'<3')\n",
    "    return heart.sub(r'HEART', text)"
   ]
  },
  {
   "cell_type": "code",
   "execution_count": 14,
   "metadata": {
    "execution": {
     "iopub.execute_input": "2025-02-26T17:50:57.428139Z",
     "iopub.status.busy": "2025-02-26T17:50:57.427896Z",
     "iopub.status.idle": "2025-02-26T17:50:57.438436Z",
     "shell.execute_reply": "2025-02-26T17:50:57.437707Z",
     "shell.execute_reply.started": "2025-02-26T17:50:57.428118Z"
    },
    "trusted": true
   },
   "outputs": [],
   "source": [
    "def clean_tweet(text):\n",
    "\n",
    "    text = remove_hashtag(text)\n",
    "    # Remove non text\n",
    "    text = remove_URL(text)\n",
    "    text = remove_HTML(text)\n",
    "    text = remove_not_ASCII(text)\n",
    "    \n",
    "    # replace abbreviations, @ and number\n",
    "    text = replace_abbrev(text)  \n",
    "    text = remove_mention(text)\n",
    "    text = remove_number(text)\n",
    "    \n",
    "    # Remove emojis / smileys\n",
    "    text = remove_emoji(text)\n",
    "    text = transcription_sad(text)\n",
    "    text = transcription_smile(text)\n",
    "    text = transcription_heart(text)\n",
    "  \n",
    "    return text"
   ]
  },
  {
   "cell_type": "code",
   "execution_count": 15,
   "metadata": {
    "execution": {
     "iopub.execute_input": "2025-02-26T17:50:57.439783Z",
     "iopub.status.busy": "2025-02-26T17:50:57.439573Z",
     "iopub.status.idle": "2025-02-26T17:50:57.737206Z",
     "shell.execute_reply": "2025-02-26T17:50:57.735851Z",
     "shell.execute_reply.started": "2025-02-26T17:50:57.439765Z"
    },
    "trusted": true
   },
   "outputs": [],
   "source": [
    "train_data[\"clean_text\"] = train_data[\"text\"].apply(clean_tweet)"
   ]
  },
  {
   "cell_type": "code",
   "execution_count": 16,
   "metadata": {
    "execution": {
     "iopub.execute_input": "2025-02-26T17:50:57.739240Z",
     "iopub.status.busy": "2025-02-26T17:50:57.738846Z",
     "iopub.status.idle": "2025-02-26T17:50:58.602748Z",
     "shell.execute_reply": "2025-02-26T17:50:58.601804Z",
     "shell.execute_reply.started": "2025-02-26T17:50:57.739207Z"
    },
    "trusted": true
   },
   "outputs": [
    {
     "name": "stdout",
     "output_type": "stream",
     "text": [
      "[nltk_data] Downloading package stopwords to /usr/share/nltk_data...\n",
      "[nltk_data]   Package stopwords is already up-to-date!\n",
      "[nltk_data] Downloading package punkt to /usr/share/nltk_data...\n",
      "[nltk_data]   Package punkt is already up-to-date!\n"
     ]
    }
   ],
   "source": [
    "import nltk\n",
    "from nltk.corpus import stopwords\n",
    "from nltk.tokenize import word_tokenize\n",
    "\n",
    "nltk.download('stopwords')\n",
    "nltk.download('punkt')\n",
    "stop_words = stopwords.words('english')"
   ]
  },
  {
   "cell_type": "code",
   "execution_count": 17,
   "metadata": {
    "execution": {
     "iopub.execute_input": "2025-02-26T17:50:58.604172Z",
     "iopub.status.busy": "2025-02-26T17:50:58.603868Z",
     "iopub.status.idle": "2025-02-26T17:50:58.866355Z",
     "shell.execute_reply": "2025-02-26T17:50:58.865461Z",
     "shell.execute_reply.started": "2025-02-26T17:50:58.604147Z"
    },
    "trusted": true
   },
   "outputs": [
    {
     "data": {
      "text/html": [
       "<div>\n",
       "<style scoped>\n",
       "    .dataframe tbody tr th:only-of-type {\n",
       "        vertical-align: middle;\n",
       "    }\n",
       "\n",
       "    .dataframe tbody tr th {\n",
       "        vertical-align: top;\n",
       "    }\n",
       "\n",
       "    .dataframe thead th {\n",
       "        text-align: right;\n",
       "    }\n",
       "</style>\n",
       "<table border=\"1\" class=\"dataframe\">\n",
       "  <thead>\n",
       "    <tr style=\"text-align: right;\">\n",
       "      <th></th>\n",
       "      <th>id</th>\n",
       "      <th>keyword</th>\n",
       "      <th>location</th>\n",
       "      <th>text</th>\n",
       "      <th>target</th>\n",
       "      <th>clean_text</th>\n",
       "    </tr>\n",
       "  </thead>\n",
       "  <tbody>\n",
       "    <tr>\n",
       "      <th>0</th>\n",
       "      <td>1</td>\n",
       "      <td>NaN</td>\n",
       "      <td>NaN</td>\n",
       "      <td>Our Deeds are the Reason of this #earthquake M...</td>\n",
       "      <td>1</td>\n",
       "      <td>Our Deeds Reason earthquake May ALLAH Forgive us</td>\n",
       "    </tr>\n",
       "    <tr>\n",
       "      <th>1</th>\n",
       "      <td>4</td>\n",
       "      <td>NaN</td>\n",
       "      <td>NaN</td>\n",
       "      <td>Forest fire near La Ronge Sask. Canada</td>\n",
       "      <td>1</td>\n",
       "      <td>Forest fire near La Ronge Sask. Canada</td>\n",
       "    </tr>\n",
       "    <tr>\n",
       "      <th>2</th>\n",
       "      <td>5</td>\n",
       "      <td>NaN</td>\n",
       "      <td>NaN</td>\n",
       "      <td>All residents asked to 'shelter in place' are ...</td>\n",
       "      <td>1</td>\n",
       "      <td>All residents asked 'shelter place' notified o...</td>\n",
       "    </tr>\n",
       "    <tr>\n",
       "      <th>3</th>\n",
       "      <td>6</td>\n",
       "      <td>NaN</td>\n",
       "      <td>NaN</td>\n",
       "      <td>13,000 people receive #wildfires evacuation or...</td>\n",
       "      <td>1</td>\n",
       "      <td>NUMBER people receive wildfires evacuation ord...</td>\n",
       "    </tr>\n",
       "    <tr>\n",
       "      <th>4</th>\n",
       "      <td>7</td>\n",
       "      <td>NaN</td>\n",
       "      <td>NaN</td>\n",
       "      <td>Just got sent this photo from Ruby #Alaska as ...</td>\n",
       "      <td>1</td>\n",
       "      <td>Just got sent photo Ruby Alaska smoke wildfire...</td>\n",
       "    </tr>\n",
       "  </tbody>\n",
       "</table>\n",
       "</div>"
      ],
      "text/plain": [
       "   id keyword location                                               text  \\\n",
       "0   1     NaN      NaN  Our Deeds are the Reason of this #earthquake M...   \n",
       "1   4     NaN      NaN             Forest fire near La Ronge Sask. Canada   \n",
       "2   5     NaN      NaN  All residents asked to 'shelter in place' are ...   \n",
       "3   6     NaN      NaN  13,000 people receive #wildfires evacuation or...   \n",
       "4   7     NaN      NaN  Just got sent this photo from Ruby #Alaska as ...   \n",
       "\n",
       "   target                                         clean_text  \n",
       "0       1   Our Deeds Reason earthquake May ALLAH Forgive us  \n",
       "1       1             Forest fire near La Ronge Sask. Canada  \n",
       "2       1  All residents asked 'shelter place' notified o...  \n",
       "3       1  NUMBER people receive wildfires evacuation ord...  \n",
       "4       1  Just got sent photo Ruby Alaska smoke wildfire...  "
      ]
     },
     "execution_count": 17,
     "metadata": {},
     "output_type": "execute_result"
    }
   ],
   "source": [
    "#train_data['clean_text'] = preprocess_text_col(train_data, \"text\")\n",
    "#train_data.head()\n",
    "train_data['clean_text'] = train_data['clean_text'].apply(lambda x: ' '.join([word for word in x.split() if word not in (stop_words)]))\n",
    "train_data.head()"
   ]
  },
  {
   "cell_type": "code",
   "execution_count": 18,
   "metadata": {
    "execution": {
     "iopub.execute_input": "2025-02-26T17:50:58.867934Z",
     "iopub.status.busy": "2025-02-26T17:50:58.867585Z",
     "iopub.status.idle": "2025-02-26T17:50:59.094847Z",
     "shell.execute_reply": "2025-02-26T17:50:59.093931Z",
     "shell.execute_reply.started": "2025-02-26T17:50:58.867900Z"
    },
    "trusted": true
   },
   "outputs": [
    {
     "data": {
      "text/html": [
       "<div>\n",
       "<style scoped>\n",
       "    .dataframe tbody tr th:only-of-type {\n",
       "        vertical-align: middle;\n",
       "    }\n",
       "\n",
       "    .dataframe tbody tr th {\n",
       "        vertical-align: top;\n",
       "    }\n",
       "\n",
       "    .dataframe thead th {\n",
       "        text-align: right;\n",
       "    }\n",
       "</style>\n",
       "<table border=\"1\" class=\"dataframe\">\n",
       "  <thead>\n",
       "    <tr style=\"text-align: right;\">\n",
       "      <th></th>\n",
       "      <th>id</th>\n",
       "      <th>keyword</th>\n",
       "      <th>location</th>\n",
       "      <th>text</th>\n",
       "      <th>clean_text</th>\n",
       "    </tr>\n",
       "  </thead>\n",
       "  <tbody>\n",
       "    <tr>\n",
       "      <th>0</th>\n",
       "      <td>0</td>\n",
       "      <td>NaN</td>\n",
       "      <td>NaN</td>\n",
       "      <td>Just happened a terrible car crash</td>\n",
       "      <td>Just happened terrible car crash</td>\n",
       "    </tr>\n",
       "    <tr>\n",
       "      <th>1</th>\n",
       "      <td>2</td>\n",
       "      <td>NaN</td>\n",
       "      <td>NaN</td>\n",
       "      <td>Heard about #earthquake is different cities, s...</td>\n",
       "      <td>Heard #earthquake different cities, stay safe ...</td>\n",
       "    </tr>\n",
       "    <tr>\n",
       "      <th>2</th>\n",
       "      <td>3</td>\n",
       "      <td>NaN</td>\n",
       "      <td>NaN</td>\n",
       "      <td>there is a forest fire at spot pond, geese are...</td>\n",
       "      <td>forest fire spot pond, geese fleeing across st...</td>\n",
       "    </tr>\n",
       "    <tr>\n",
       "      <th>3</th>\n",
       "      <td>9</td>\n",
       "      <td>NaN</td>\n",
       "      <td>NaN</td>\n",
       "      <td>Apocalypse lighting. #Spokane #wildfires</td>\n",
       "      <td>Apocalypse lighting. #Spokane #wildfires</td>\n",
       "    </tr>\n",
       "    <tr>\n",
       "      <th>4</th>\n",
       "      <td>11</td>\n",
       "      <td>NaN</td>\n",
       "      <td>NaN</td>\n",
       "      <td>Typhoon Soudelor kills 28 in China and Taiwan</td>\n",
       "      <td>Typhoon Soudelor kills 28 China Taiwan</td>\n",
       "    </tr>\n",
       "  </tbody>\n",
       "</table>\n",
       "</div>"
      ],
      "text/plain": [
       "   id keyword location                                               text  \\\n",
       "0   0     NaN      NaN                 Just happened a terrible car crash   \n",
       "1   2     NaN      NaN  Heard about #earthquake is different cities, s...   \n",
       "2   3     NaN      NaN  there is a forest fire at spot pond, geese are...   \n",
       "3   9     NaN      NaN           Apocalypse lighting. #Spokane #wildfires   \n",
       "4  11     NaN      NaN      Typhoon Soudelor kills 28 in China and Taiwan   \n",
       "\n",
       "                                          clean_text  \n",
       "0                   Just happened terrible car crash  \n",
       "1  Heard #earthquake different cities, stay safe ...  \n",
       "2  forest fire spot pond, geese fleeing across st...  \n",
       "3           Apocalypse lighting. #Spokane #wildfires  \n",
       "4             Typhoon Soudelor kills 28 China Taiwan  "
      ]
     },
     "execution_count": 18,
     "metadata": {},
     "output_type": "execute_result"
    }
   ],
   "source": [
    "test_data[\"clean_text\"] = test_data[\"text\"].apply(clean_tweet)\n",
    "test_data['clean_text'] = test_data['text'].apply(lambda x: ' '.join([word for word in x.split() if word not in (stop_words)]))\n",
    "test_data.head()"
   ]
  },
  {
   "cell_type": "markdown",
   "metadata": {},
   "source": [
    "# "
   ]
  },
  {
   "cell_type": "code",
   "execution_count": 19,
   "metadata": {
    "execution": {
     "iopub.execute_input": "2025-02-26T17:50:59.096053Z",
     "iopub.status.busy": "2025-02-26T17:50:59.095792Z",
     "iopub.status.idle": "2025-02-26T17:50:59.216077Z",
     "shell.execute_reply": "2025-02-26T17:50:59.215182Z",
     "shell.execute_reply.started": "2025-02-26T17:50:59.096014Z"
    },
    "trusted": true
   },
   "outputs": [
    {
     "name": "stdout",
     "output_type": "stream",
     "text": [
      "vocabulary size: {:d} 15000\n"
     ]
    }
   ],
   "source": [
    "# determine size of training vocabulary\n",
    "\n",
    "tok = tf.keras.preprocessing.text.Tokenizer(oov_token=\"<00V>\")\n",
    "sentences = train_data['clean_text'].to_numpy()\n",
    "labels = train_data['target'].astype(int).to_numpy()\n",
    "tok.fit_on_texts(sentences)\n",
    "vocab_size = len(tok.word_counts)+1\n",
    "print(\"vocabulary size: {:d}\",format(vocab_size))"
   ]
  },
  {
   "cell_type": "code",
   "execution_count": 20,
   "metadata": {
    "execution": {
     "iopub.execute_input": "2025-02-26T17:50:59.217180Z",
     "iopub.status.busy": "2025-02-26T17:50:59.216927Z",
     "iopub.status.idle": "2025-02-26T17:50:59.227375Z",
     "shell.execute_reply": "2025-02-26T17:50:59.226496Z",
     "shell.execute_reply.started": "2025-02-26T17:50:59.217159Z"
    },
    "trusted": true
   },
   "outputs": [
    {
     "name": "stdout",
     "output_type": "stream",
     "text": [
      "28\n"
     ]
    }
   ],
   "source": [
    "\n",
    "seq_lengths = np.array([len(s.split()) for s in sentences])\n",
    "print(max(seq_lengths))\n"
   ]
  },
  {
   "cell_type": "code",
   "execution_count": 21,
   "metadata": {
    "execution": {
     "iopub.execute_input": "2025-02-26T17:50:59.228933Z",
     "iopub.status.busy": "2025-02-26T17:50:59.228615Z",
     "iopub.status.idle": "2025-02-26T17:50:59.236325Z",
     "shell.execute_reply": "2025-02-26T17:50:59.235474Z",
     "shell.execute_reply.started": "2025-02-26T17:50:59.228895Z"
    },
    "trusted": true
   },
   "outputs": [],
   "source": [
    "# set initial hyper parameter values\n",
    "VOC_SIZE = vocab_size\n",
    "MAX_LEN = max(seq_lengths)\n",
    "OOV_TOK = \"<00V>\"\n",
    "BATCH_SIZE = 64\n",
    "PADDING_TYPE = \"post\"\n",
    "TRUNC_TYPE = \"post\"\n",
    "EMBEDDING_SIZE = 16\n"
   ]
  },
  {
   "cell_type": "code",
   "execution_count": 22,
   "metadata": {
    "execution": {
     "iopub.execute_input": "2025-02-26T17:50:59.237875Z",
     "iopub.status.busy": "2025-02-26T17:50:59.237568Z",
     "iopub.status.idle": "2025-02-26T17:50:59.246318Z",
     "shell.execute_reply": "2025-02-26T17:50:59.245585Z",
     "shell.execute_reply.started": "2025-02-26T17:50:59.237847Z"
    },
    "trusted": true
   },
   "outputs": [],
   "source": [
    "# Split the sentences\n",
    "training_size = round(len(sentences)*0.8)\n",
    "training_sentences = sentences[0:training_size]\n",
    "testing_sentences = sentences[training_size:]\n",
    "\n",
    "# Split the labels\n",
    "training_labels = labels[0:training_size]\n",
    "testing_labels = labels[training_size:]"
   ]
  },
  {
   "cell_type": "code",
   "execution_count": 23,
   "metadata": {
    "execution": {
     "iopub.execute_input": "2025-02-26T17:50:59.247490Z",
     "iopub.status.busy": "2025-02-26T17:50:59.247237Z",
     "iopub.status.idle": "2025-02-26T17:50:59.429507Z",
     "shell.execute_reply": "2025-02-26T17:50:59.428859Z",
     "shell.execute_reply.started": "2025-02-26T17:50:59.247470Z"
    },
    "trusted": true
   },
   "outputs": [
    {
     "name": "stdout",
     "output_type": "stream",
     "text": [
      "(6090, 28)\n"
     ]
    }
   ],
   "source": [
    "tok = tf.keras.preprocessing.text.Tokenizer(num_words=VOC_SIZE, oov_token=OOV_TOK)\n",
    "\n",
    "# Generate the word index dictionary\n",
    "tok.fit_on_texts(training_sentences)\n",
    "word_index = tok.word_index\n",
    "\n",
    "# Generate and pad the training sequences\n",
    "training_sequences = tok.texts_to_sequences(training_sentences)\n",
    "training_padded = tf.keras.preprocessing.sequence.pad_sequences(training_sequences, maxlen=MAX_LEN, padding=PADDING_TYPE, truncating=TRUNC_TYPE)\n",
    "print(training_padded.shape)\n",
    "# Generate and pad the testing sequences\n",
    "testing_sequences = tok.texts_to_sequences(testing_sentences)\n",
    "testing_padded = tf.keras.preprocessing.sequence.pad_sequences(testing_sequences, maxlen=MAX_LEN, padding=PADDING_TYPE, truncating=TRUNC_TYPE)\n",
    "\n",
    "# Convert the labels lists into numpy arrays\n",
    "training_labels = np.array(training_labels)\n",
    "testing_labels = np.array(testing_labels)"
   ]
  },
  {
   "cell_type": "markdown",
   "metadata": {},
   "source": [
    "# Model Architecture\n",
    "\n",
    "Three model architectures are used order to compare performance of a vanilla MLP, LTSM, and Bidirectional LTSM, i.e. the last two models are RNNs. All three models use an Embedding layer with dimension 100. Embedding layer is critical for Deep Neural Networks (NN) that are used to solve NLP problems. \n",
    "\n",
    "The Embedding layer learns representations that give context words and how they relate to each other. The output of an embedding layer can be passed to a MLP layer, a CNN layer, or a LTSM layer. The later is what makes the model a RNN. The dimension needs to be large and many models start with a dimension size of 100. Average Pooling is used with Model 1 to help reduce overfitting. Dropouts are used with Model 2 and 3 to help reduce overfitting.\n",
    "\n",
    "The number of permuations and comparions between models and hyperparamters is large, therefore hyperparameters have not been changed, and only model architectures have been compared.\n",
    "\n",
    "\n",
    "\n"
   ]
  },
  {
   "cell_type": "code",
   "execution_count": 24,
   "metadata": {
    "execution": {
     "iopub.execute_input": "2025-02-26T17:50:59.430447Z",
     "iopub.status.busy": "2025-02-26T17:50:59.430242Z",
     "iopub.status.idle": "2025-02-26T17:50:59.435485Z",
     "shell.execute_reply": "2025-02-26T17:50:59.434572Z",
     "shell.execute_reply.started": "2025-02-26T17:50:59.430429Z"
    },
    "trusted": true
   },
   "outputs": [],
   "source": [
    "import matplotlib.pyplot as plt\n",
    "\n",
    "# Plot utility\n",
    "def plot_graphs(history, string):\n",
    "  plt.plot(history.history[string])\n",
    "  plt.plot(history.history['val_'+string])\n",
    "  plt.xlabel(\"Epochs\")\n",
    "  plt.ylabel(string)\n",
    "  plt.legend([string, 'val_'+string])\n",
    "  plt.show()\n",
    "  \n"
   ]
  },
  {
   "cell_type": "code",
   "execution_count": 25,
   "metadata": {
    "execution": {
     "iopub.execute_input": "2025-02-26T17:50:59.436752Z",
     "iopub.status.busy": "2025-02-26T17:50:59.436516Z",
     "iopub.status.idle": "2025-02-26T17:50:59.444786Z",
     "shell.execute_reply": "2025-02-26T17:50:59.443881Z",
     "shell.execute_reply.started": "2025-02-26T17:50:59.436732Z"
    },
    "trusted": true
   },
   "outputs": [],
   "source": [
    "def create_submission(filename, data, tok, model, max_len):\n",
    "    \n",
    "    test_as_ints = tok.texts_to_sequences(data['text'])\n",
    "    test_as_ints = tf.keras.preprocessing.sequence.pad_sequences(test_as_ints, max_len)\n",
    "    predictions = model.predict(test_as_ints)\n",
    "    binary_pred = (predictions > 0.5).astype(int)\n",
    "\n",
    "    ids = data['id']\n",
    "    # Save predictions to CSV file\n",
    "    submission_df = pd.DataFrame({'id': ids, 'target': binary_pred.flatten()})\n",
    "    submission_df.to_csv(filename, index=False)"
   ]
  },
  {
   "cell_type": "code",
   "execution_count": 26,
   "metadata": {
    "execution": {
     "iopub.execute_input": "2025-02-26T17:50:59.448886Z",
     "iopub.status.busy": "2025-02-26T17:50:59.448097Z",
     "iopub.status.idle": "2025-02-26T17:50:59.456771Z",
     "shell.execute_reply": "2025-02-26T17:50:59.455888Z",
     "shell.execute_reply.started": "2025-02-26T17:50:59.448852Z"
    },
    "trusted": true
   },
   "outputs": [],
   "source": [
    "def model1():\n",
    "    model = tf.keras.models.Sequential([\n",
    "    tf.keras.layers.Embedding(vocab_size, 100, input_length=MAX_LEN),\n",
    "    #tf.keras.layers.Embedding(vocab_size, MAX_LEN),\n",
    "    tf.keras.layers.GlobalAveragePooling1D(),\n",
    "    tf.keras.layers.Dense(24, activation='relu'),\n",
    "    tf.keras.layers.Dense(1, activation='sigmoid')\n",
    "    ])\n",
    "\n",
    "    model.compile(\n",
    "        loss=\"binary_crossentropy\",\n",
    "        optimizer=\"adam\",\n",
    "        metrics=[\"accuracy\"]\n",
    "    )\n",
    "    model.summary()\n",
    "    return model"
   ]
  },
  {
   "cell_type": "code",
   "execution_count": 27,
   "metadata": {
    "execution": {
     "iopub.execute_input": "2025-02-26T17:50:59.458009Z",
     "iopub.status.busy": "2025-02-26T17:50:59.457695Z",
     "iopub.status.idle": "2025-02-26T17:50:59.470621Z",
     "shell.execute_reply": "2025-02-26T17:50:59.469892Z",
     "shell.execute_reply.started": "2025-02-26T17:50:59.457979Z"
    },
    "trusted": true
   },
   "outputs": [],
   "source": [
    "def model2():\n",
    "    model = tf.keras.models.Sequential([\n",
    "    tf.keras.layers.Embedding(vocab_size, 100),\n",
    "    tf.keras.layers.Dropout(0.2),\n",
    "    tf.keras.layers.LSTM(100, activation=\"relu\",dropout=0.2, recurrent_dropout=0.2 ),\n",
    "    tf.keras.layers.Dense(24, activation='relu'),\n",
    "    tf.keras.layers.Dense(1, activation='sigmoid')\n",
    "    ])\n",
    "\n",
    "    model.compile(\n",
    "        loss=\"binary_crossentropy\",\n",
    "        optimizer=\"adam\",\n",
    "        metrics=[\"accuracy\"]\n",
    "    )\n",
    "    model.summary()\n",
    "    return model"
   ]
  },
  {
   "cell_type": "code",
   "execution_count": 28,
   "metadata": {
    "execution": {
     "iopub.execute_input": "2025-02-26T17:50:59.471704Z",
     "iopub.status.busy": "2025-02-26T17:50:59.471444Z",
     "iopub.status.idle": "2025-02-26T17:50:59.480853Z",
     "shell.execute_reply": "2025-02-26T17:50:59.480154Z",
     "shell.execute_reply.started": "2025-02-26T17:50:59.471673Z"
    },
    "trusted": true
   },
   "outputs": [],
   "source": [
    "#def model2():\n",
    "#    model = tf.keras.models.Sequential([\n",
    "#    tf.keras.layers.Embedding(vocab_size, 100),\n",
    "#    tf.keras.layers.Bidirectional(tf.keras.layers.LSTM(64, activation=\"relu\")),\n",
    "#    tf.keras.layers.Dense(24, activation='relu'),\n",
    "#    tf.keras.layers.Dense(1, activation='sigmoid')\n",
    "#    ])\n",
    "\n",
    "#    model.compile(\n",
    "#        loss=\"binary_crossentropy\",\n",
    "#        optimizer=\"adam\",\n",
    "#        metrics=[\"accuracy\"]\n",
    "#    )\n",
    "#    model.summary()\n",
    "#    return model\n"
   ]
  },
  {
   "cell_type": "code",
   "execution_count": 29,
   "metadata": {
    "execution": {
     "iopub.execute_input": "2025-02-26T17:50:59.481945Z",
     "iopub.status.busy": "2025-02-26T17:50:59.481697Z",
     "iopub.status.idle": "2025-02-26T17:50:59.488968Z",
     "shell.execute_reply": "2025-02-26T17:50:59.488251Z",
     "shell.execute_reply.started": "2025-02-26T17:50:59.481904Z"
    },
    "trusted": true
   },
   "outputs": [],
   "source": [
    "#def model2b():\n",
    "#    model = tf.keras.models.Sequential([\n",
    "#    tf.keras.layers.Embedding(vocab_size, 100,input_length = MAX_LEN),\n",
    "#    tf.keras.layers.Dropout(0.2),\n",
    "#    tf.keras.layers.LSTM(100, dropout=0.2, recurrent_dropout=0.2 ),\n",
    "#    tf.keras.layers.Dropout(0.2),\n",
    "#    tf.keras.layers.LSTM(100,dropout=0.2, recurrent_dropout=0.2),\n",
    "#    tf.keras.layers.Dropout(0.2),\n",
    "#    tf.keras.layers.Dense(24, activation='relu'),\n",
    "#    tf.keras.layers.Dense(1, activation='sigmoid')\n",
    "#    ])\n",
    "#    model.compile(\n",
    "#        loss=\"binary_crossentropy\",\n",
    "#        optimizer=tf.keras.optimizers.Adam(learning_rate=2e-3),\n",
    "#        metrics=[\"accuracy\"]\n",
    "#    )\n",
    "\n",
    "#    print(model.summary())\n",
    "#    return model"
   ]
  },
  {
   "cell_type": "code",
   "execution_count": 30,
   "metadata": {
    "execution": {
     "iopub.execute_input": "2025-02-26T17:50:59.490026Z",
     "iopub.status.busy": "2025-02-26T17:50:59.489771Z",
     "iopub.status.idle": "2025-02-26T17:50:59.503676Z",
     "shell.execute_reply": "2025-02-26T17:50:59.502812Z",
     "shell.execute_reply.started": "2025-02-26T17:50:59.489995Z"
    },
    "trusted": true
   },
   "outputs": [],
   "source": [
    "def model3():\n",
    "    model = tf.keras.models.Sequential([\n",
    "    tf.keras.layers.Embedding(vocab_size, 100),\n",
    "    tf.keras.layers.Bidirectional(tf.keras.layers.LSTM(100, dropout=0.2, recurrent_dropout=0.2 )),\n",
    "    tf.keras.layers.Dense(24, activation='relu'),\n",
    "    tf.keras.layers.Dense(1, activation='sigmoid')\n",
    "    ])\n",
    "\n",
    "    model.compile(\n",
    "        loss=\"binary_crossentropy\",\n",
    "        optimizer=\"adam\",\n",
    "        metrics=[\"accuracy\"]\n",
    "    )\n",
    "    model.summary()\n",
    "    return model"
   ]
  },
  {
   "cell_type": "code",
   "execution_count": null,
   "metadata": {
    "trusted": true
   },
   "outputs": [],
   "source": []
  },
  {
   "cell_type": "code",
   "execution_count": 31,
   "metadata": {
    "execution": {
     "iopub.execute_input": "2025-02-26T17:50:59.504982Z",
     "iopub.status.busy": "2025-02-26T17:50:59.504734Z",
     "iopub.status.idle": "2025-02-26T17:50:59.512908Z",
     "shell.execute_reply": "2025-02-26T17:50:59.512221Z",
     "shell.execute_reply.started": "2025-02-26T17:50:59.504962Z"
    },
    "trusted": true
   },
   "outputs": [],
   "source": [
    "from tensorflow.keras.callbacks import EarlyStopping\n",
    "early_stopping = EarlyStopping(monitor='val_loss', patience=3)"
   ]
  },
  {
   "cell_type": "code",
   "execution_count": 32,
   "metadata": {
    "execution": {
     "iopub.execute_input": "2025-02-26T17:50:59.514888Z",
     "iopub.status.busy": "2025-02-26T17:50:59.513949Z",
     "iopub.status.idle": "2025-02-26T17:51:30.804225Z",
     "shell.execute_reply": "2025-02-26T17:51:30.803289Z",
     "shell.execute_reply.started": "2025-02-26T17:50:59.514854Z"
    },
    "trusted": true
   },
   "outputs": [
    {
     "name": "stdout",
     "output_type": "stream",
     "text": [
      "Model: \"sequential\"\n",
      "_________________________________________________________________\n",
      " Layer (type)                Output Shape              Param #   \n",
      "=================================================================\n",
      " embedding (Embedding)       (None, 28, 100)           1500000   \n",
      "                                                                 \n",
      " global_average_pooling1d (G  (None, 100)              0         \n",
      " lobalAveragePooling1D)                                          \n",
      "                                                                 \n",
      " dense (Dense)               (None, 24)                2424      \n",
      "                                                                 \n",
      " dense_1 (Dense)             (None, 1)                 25        \n",
      "                                                                 \n",
      "=================================================================\n",
      "Total params: 1,502,449\n",
      "Trainable params: 1,502,449\n",
      "Non-trainable params: 0\n",
      "_________________________________________________________________\n",
      "Epoch 1/10\n",
      "191/191 - 18s - loss: 0.6384 - accuracy: 0.6345 - val_loss: 0.5643 - val_accuracy: 0.7538 - 18s/epoch - 96ms/step\n",
      "Epoch 2/10\n",
      "191/191 - 2s - loss: 0.4180 - accuracy: 0.8340 - val_loss: 0.4619 - val_accuracy: 0.7919 - 2s/epoch - 13ms/step\n",
      "Epoch 3/10\n",
      "191/191 - 3s - loss: 0.2794 - accuracy: 0.8943 - val_loss: 0.4600 - val_accuracy: 0.7886 - 3s/epoch - 15ms/step\n",
      "Epoch 4/10\n",
      "191/191 - 1s - loss: 0.2036 - accuracy: 0.9266 - val_loss: 0.4858 - val_accuracy: 0.7787 - 1s/epoch - 8ms/step\n",
      "Epoch 5/10\n",
      "191/191 - 3s - loss: 0.1553 - accuracy: 0.9429 - val_loss: 0.5711 - val_accuracy: 0.7380 - 3s/epoch - 13ms/step\n",
      "Epoch 6/10\n",
      "191/191 - 1s - loss: 0.1207 - accuracy: 0.9576 - val_loss: 0.5591 - val_accuracy: 0.7814 - 1s/epoch - 7ms/step\n"
     ]
    }
   ],
   "source": [
    "model = model1()\n",
    "hist1 = model.fit(training_padded, training_labels, epochs=10, validation_data=(testing_padded, testing_labels), callbacks=[early_stopping], verbose=2)\n"
   ]
  },
  {
   "cell_type": "code",
   "execution_count": 33,
   "metadata": {
    "execution": {
     "iopub.execute_input": "2025-02-26T17:51:30.805845Z",
     "iopub.status.busy": "2025-02-26T17:51:30.805571Z",
     "iopub.status.idle": "2025-02-26T17:51:31.193322Z",
     "shell.execute_reply": "2025-02-26T17:51:31.192408Z",
     "shell.execute_reply.started": "2025-02-26T17:51:30.805822Z"
    },
    "trusted": true
   },
   "outputs": [
    {
     "data": {
      "image/png": "[encoded data removed]",
      "text/plain": [
       "<Figure size 640x480 with 1 Axes>"
      ]
     },
     "metadata": {},
     "output_type": "display_data"
    },
    {
     "data": {
      "image/png": "[encoded data removed]",
      "text/plain": [
       "<Figure size 640x480 with 1 Axes>"
      ]
     },
     "metadata": {},
     "output_type": "display_data"
    }
   ],
   "source": [
    "# Plot the accuracy and loss\n",
    "plot_graphs(hist1, \"accuracy\")\n",
    "plot_graphs(hist1, \"loss\")"
   ]
  },
  {
   "cell_type": "code",
   "execution_count": 34,
   "metadata": {
    "execution": {
     "iopub.execute_input": "2025-02-26T17:51:31.194628Z",
     "iopub.status.busy": "2025-02-26T17:51:31.194304Z",
     "iopub.status.idle": "2025-02-26T17:51:31.548029Z",
     "shell.execute_reply": "2025-02-26T17:51:31.547148Z",
     "shell.execute_reply.started": "2025-02-26T17:51:31.194596Z"
    },
    "trusted": true
   },
   "outputs": [
    {
     "name": "stdout",
     "output_type": "stream",
     "text": [
      "102/102 [==============================] - 0s 1ms/step\n"
     ]
    }
   ],
   "source": [
    "# Create Kaggle submission file\n",
    "# prepare test data\n",
    "\n",
    "\n",
    "create_submission(kaggle_output_dir + '/submission_model.csv', test_data, \n",
    "                  tok, model, MAX_LEN)\n",
    "# Kaggle public score 0.78486 V14\n"
   ]
  },
  {
   "cell_type": "code",
   "execution_count": 35,
   "metadata": {
    "execution": {
     "iopub.execute_input": "2025-02-26T17:51:31.549646Z",
     "iopub.status.busy": "2025-02-26T17:51:31.549299Z",
     "iopub.status.idle": "2025-02-26T17:53:48.910965Z",
     "shell.execute_reply": "2025-02-26T17:53:48.910029Z",
     "shell.execute_reply.started": "2025-02-26T17:51:31.549613Z"
    },
    "trusted": true
   },
   "outputs": [
    {
     "name": "stdout",
     "output_type": "stream",
     "text": [
      "Model: \"sequential_1\"\n",
      "_________________________________________________________________\n",
      " Layer (type)                Output Shape              Param #   \n",
      "=================================================================\n",
      " embedding_1 (Embedding)     (None, None, 100)         1500000   \n",
      "                                                                 \n",
      " dropout (Dropout)           (None, None, 100)         0         \n",
      "                                                                 \n",
      " lstm (LSTM)                 (None, 100)               80400     \n",
      "                                                                 \n",
      " dense_2 (Dense)             (None, 24)                2424      \n",
      "                                                                 \n",
      " dense_3 (Dense)             (None, 1)                 25        \n",
      "                                                                 \n",
      "=================================================================\n",
      "Total params: 1,582,849\n",
      "Trainable params: 1,582,849\n",
      "Non-trainable params: 0\n",
      "_________________________________________________________________\n",
      "Epoch 1/10\n",
      "191/191 - 34s - loss: 0.6621 - accuracy: 0.6167 - val_loss: 0.5977 - val_accuracy: 0.7814 - 34s/epoch - 177ms/step\n",
      "Epoch 2/10\n",
      "191/191 - 22s - loss: 0.6475 - accuracy: 0.7601 - val_loss: 0.6510 - val_accuracy: 0.7065 - 22s/epoch - 113ms/step\n",
      "Epoch 3/10\n",
      "191/191 - 21s - loss: 0.3925 - accuracy: 0.8542 - val_loss: 0.4951 - val_accuracy: 0.7735 - 21s/epoch - 109ms/step\n",
      "Epoch 4/10\n",
      "191/191 - 21s - loss: 0.3057 - accuracy: 0.9095 - val_loss: 0.5747 - val_accuracy: 0.7557 - 21s/epoch - 109ms/step\n",
      "Epoch 5/10\n",
      "191/191 - 20s - loss: 0.1724 - accuracy: 0.9386 - val_loss: 0.6025 - val_accuracy: 0.7656 - 20s/epoch - 104ms/step\n",
      "Epoch 6/10\n",
      "191/191 - 20s - loss: 0.1276 - accuracy: 0.9548 - val_loss: 0.5262 - val_accuracy: 0.7735 - 20s/epoch - 106ms/step\n"
     ]
    }
   ],
   "source": [
    "\n",
    "model = model2()\n",
    "hist2 = model.fit(training_padded, training_labels, epochs=10, validation_data=(testing_padded, testing_labels), callbacks=[early_stopping], verbose=2)\n"
   ]
  },
  {
   "cell_type": "code",
   "execution_count": 36,
   "metadata": {
    "execution": {
     "iopub.execute_input": "2025-02-26T17:53:48.913200Z",
     "iopub.status.busy": "2025-02-26T17:53:48.912486Z",
     "iopub.status.idle": "2025-02-26T17:53:49.215410Z",
     "shell.execute_reply": "2025-02-26T17:53:49.214649Z",
     "shell.execute_reply.started": "2025-02-26T17:53:48.913165Z"
    },
    "trusted": true
   },
   "outputs": [
    {
     "data": {
      "image/png": "[encoded data removed]",
      "text/plain": [
       "<Figure size 640x480 with 1 Axes>"
      ]
     },
     "metadata": {},
     "output_type": "display_data"
    },
    {
     "data": {
      "image/png": "[encoded data removed]",
      "text/plain": [
       "<Figure size 640x480 with 1 Axes>"
      ]
     },
     "metadata": {},
     "output_type": "display_data"
    }
   ],
   "source": [
    "# Plot the accuracy and loss\n",
    "plot_graphs(hist2, \"accuracy\")\n",
    "plot_graphs(hist2, \"loss\")"
   ]
  },
  {
   "cell_type": "code",
   "execution_count": 37,
   "metadata": {
    "execution": {
     "iopub.execute_input": "2025-02-26T17:53:49.216667Z",
     "iopub.status.busy": "2025-02-26T17:53:49.216347Z",
     "iopub.status.idle": "2025-02-26T17:53:50.412025Z",
     "shell.execute_reply": "2025-02-26T17:53:50.411078Z",
     "shell.execute_reply.started": "2025-02-26T17:53:49.216638Z"
    },
    "trusted": true
   },
   "outputs": [
    {
     "name": "stdout",
     "output_type": "stream",
     "text": [
      "102/102 [==============================] - 1s 8ms/step\n"
     ]
    }
   ],
   "source": [
    "# Create Kaggle submission file\n",
    "# prepare test data\n",
    "\n",
    "\n",
    "create_submission(kaggle_output_dir + '/submission_model2.csv', test_data, \n",
    "                  tok, model, MAX_LEN)\n",
    "# Kaggle public score 0.57033 - default activation - sigmoid\n",
    "# Kaggle public score 0.68127 - relu activation\n",
    "# Kaggle public score 0.75697 less dense\n"
   ]
  },
  {
   "cell_type": "code",
   "execution_count": 41,
   "metadata": {
    "execution": {
     "iopub.execute_input": "2025-02-26T17:55:50.283268Z",
     "iopub.status.busy": "2025-02-26T17:55:50.282971Z",
     "iopub.status.idle": "2025-02-26T17:58:46.519168Z",
     "shell.execute_reply": "2025-02-26T17:58:46.518182Z",
     "shell.execute_reply.started": "2025-02-26T17:55:50.283244Z"
    },
    "trusted": true
   },
   "outputs": [
    {
     "name": "stdout",
     "output_type": "stream",
     "text": [
      "Model: \"sequential_3\"\n",
      "_________________________________________________________________\n",
      " Layer (type)                Output Shape              Param #   \n",
      "=================================================================\n",
      " embedding_3 (Embedding)     (None, None, 100)         1500000   \n",
      "                                                                 \n",
      " bidirectional (Bidirectiona  (None, 200)              160800    \n",
      " l)                                                              \n",
      "                                                                 \n",
      " dense_6 (Dense)             (None, 24)                4824      \n",
      "                                                                 \n",
      " dense_7 (Dense)             (None, 1)                 25        \n",
      "                                                                 \n",
      "=================================================================\n",
      "Total params: 1,665,649\n",
      "Trainable params: 1,665,649\n",
      "Non-trainable params: 0\n",
      "_________________________________________________________________\n",
      "Epoch 1/20\n",
      "191/191 - 54s - loss: 0.5351 - accuracy: 0.7225 - val_loss: 0.4644 - val_accuracy: 0.7905 - 54s/epoch - 285ms/step\n",
      "Epoch 2/20\n",
      "191/191 - 40s - loss: 0.2920 - accuracy: 0.8837 - val_loss: 0.5387 - val_accuracy: 0.7439 - 40s/epoch - 212ms/step\n",
      "Epoch 3/20\n",
      "191/191 - 42s - loss: 0.1783 - accuracy: 0.9345 - val_loss: 0.6286 - val_accuracy: 0.7321 - 42s/epoch - 218ms/step\n",
      "Epoch 4/20\n",
      "191/191 - 39s - loss: 0.1203 - accuracy: 0.9593 - val_loss: 0.7073 - val_accuracy: 0.7505 - 39s/epoch - 206ms/step\n"
     ]
    }
   ],
   "source": [
    "\n",
    "model =  model3()\n",
    "hist3 = model.fit(training_padded, training_labels, epochs=20, validation_data=(testing_padded, testing_labels), callbacks=[early_stopping], verbose=2)\n"
   ]
  },
  {
   "cell_type": "code",
   "execution_count": 42,
   "metadata": {
    "execution": {
     "iopub.execute_input": "2025-02-26T17:58:46.520832Z",
     "iopub.status.busy": "2025-02-26T17:58:46.520554Z",
     "iopub.status.idle": "2025-02-26T17:58:46.970429Z",
     "shell.execute_reply": "2025-02-26T17:58:46.969605Z",
     "shell.execute_reply.started": "2025-02-26T17:58:46.520808Z"
    },
    "trusted": true
   },
   "outputs": [
    {
     "data": {
      "image/png": "[encoded data removed]",
      "text/plain": [
       "<Figure size 640x480 with 1 Axes>"
      ]
     },
     "metadata": {},
     "output_type": "display_data"
    },
    {
     "data": {
      "image/png": "[encoded data removed]",
      "text/plain": [
       "<Figure size 640x480 with 1 Axes>"
      ]
     },
     "metadata": {},
     "output_type": "display_data"
    }
   ],
   "source": [
    "# Plot the accuracy and loss\n",
    "plot_graphs(hist3, \"accuracy\")\n",
    "plot_graphs(hist3, \"loss\")"
   ]
  },
  {
   "cell_type": "code",
   "execution_count": 43,
   "metadata": {
    "execution": {
     "iopub.execute_input": "2025-02-26T17:58:46.972384Z",
     "iopub.status.busy": "2025-02-26T17:58:46.971715Z",
     "iopub.status.idle": "2025-02-26T17:58:49.039077Z",
     "shell.execute_reply": "2025-02-26T17:58:49.038231Z",
     "shell.execute_reply.started": "2025-02-26T17:58:46.972350Z"
    },
    "trusted": true
   },
   "outputs": [
    {
     "name": "stdout",
     "output_type": "stream",
     "text": [
      "102/102 [==============================] - 2s 15ms/step\n"
     ]
    }
   ],
   "source": [
    "\n",
    "create_submission(kaggle_output_dir + '/submission_model3.csv', test_data, \n",
    "                  tok, model, MAX_LEN)\n",
    "\n"
   ]
  },
  {
   "cell_type": "markdown",
   "metadata": {},
   "source": [
    "# Results and Analysis\n",
    "\n",
    "<table>\n",
    "  <tr>\n",
    "    <th>Model</th>\n",
    "    <th>Training Accuracy</th>\n",
    "    <th>Validation Accuracy</th>\n",
    "    <th>Kaggle Public Score</th>\n",
    "  </tr>\n",
    "\n",
    "  <tr>\n",
    "    <td>Model1</th>\n",
    "    <td>95.76%</td>\n",
    "    <td>78.14%</td>\n",
    "    <td>75.64%</td>\n",
    "  </tr>\n",
    "\n",
    "  <tr>\n",
    "    <td>Model2</th>\n",
    "    <td>95.48%</td>\n",
    "    <td>77.35%</td>\n",
    "    <td>74.5%</td>\n",
    "  </tr>\n",
    "  <tr>\n",
    "    <td>Model3</th>\n",
    "    <td>95.93%</td>\n",
    "    <td>75.1%</td>\n",
    "    <td>74.9%</td>\n",
    "  </tr>\n",
    "</table>\n"
   ]
  },
  {
   "cell_type": "code",
   "execution_count": null,
   "metadata": {
    "trusted": true
   },
   "outputs": [],
   "source": [
    "\n"
   ]
  },
  {
   "cell_type": "code",
   "execution_count": null,
   "metadata": {
    "trusted": true
   },
   "outputs": [],
   "source": []
  },
  {
   "cell_type": "markdown",
   "metadata": {},
   "source": [
    "# Conclusion\n",
    "\n",
    "Discuss and interpret results as well as learnings and takeaways. What did and did not help improve the performance of your models? What improvements could you try in the future?"
   ]
  }
 ],
 "metadata": {
  "kaggle": {
   "accelerator": "nvidiaTeslaT4",
   "dataSources": [
    {
     "databundleVersionId": 869809,
     "sourceId": 17777,
     "sourceType": "competition"
    }
   ],
   "dockerImageVersionId": 30527,
   "isGpuEnabled": true,
   "isInternetEnabled": true,
   "language": "python",
   "sourceType": "notebook"
  },
  "kernelspec": {
   "display_name": "Python 3",
   "language": "python",
   "name": "python3"
  },
  "language_info": {
   "codemirror_mode": {
    "name": "ipython",
    "version": 3
   },
   "file_extension": ".py",
   "mimetype": "text/x-python",
   "name": "python",
   "nbconvert_exporter": "python",
   "pygments_lexer": "ipython3",
   "version": "3.10.12"
  }
 },
 "nbformat": 4,
 "nbformat_minor": 4
}
